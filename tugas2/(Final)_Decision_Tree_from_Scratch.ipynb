{
  "nbformat": 4,
  "nbformat_minor": 0,
  "metadata": {
    "colab": {
      "provenance": []
    },
    "kernelspec": {
      "name": "python3",
      "display_name": "Python 3"
    },
    "language_info": {
      "name": "python"
    }
  },
  "cells": [
    {
      "cell_type": "markdown",
      "source": [
        "# Overview Materi\n",
        "\n",
        "Source: https://www.youtube.com/watch?v=LDRbO9a6XPU"
      ],
      "metadata": {
        "id": "fQjXfMWTFXhh"
      }
    },
    {
      "cell_type": "markdown",
      "source": [
        "Jelaskan secara singkat apa itu decision tree menurut pemahamanmu!"
      ],
      "metadata": {
        "id": "UH5otNgmFY4r"
      }
    },
    {
      "cell_type": "markdown",
      "source": [
        "# Import Data & Libraries"
      ],
      "metadata": {
        "id": "yR_dxhoaIGZY"
      }
    },
    {
      "cell_type": "code",
      "execution_count": 45,
      "metadata": {
        "id": "E3fobMaeFOAe"
      },
      "outputs": [],
      "source": [
        "from __future__ import print_function\n",
        "\n",
        "# label kolom\n",
        "header = [\"color\", \"diameter\", \"label\"]\n",
        "\n",
        "# data training\n",
        "training_data = [\n",
        "    ['Green', 3, 'Apple'],\n",
        "    ['Yellow', 3, 'Apple'],\n",
        "    ['Red', 1, 'Grape'],\n",
        "    ['Red', 1, 'Grape'],\n",
        "    ['Yellow', 3, 'Lemon'],]\n",
        "\n",
        "# data testing\n",
        "testing_data = [\n",
        "    ['Green', 3, 'Apple'],\n",
        "    ['Yellow', 4, 'Apple'],\n",
        "    ['Red', 2, 'Grape'],\n",
        "    ['Red', 1, 'Grape'],\n",
        "    ['Yellow', 3, 'Lemon'],]"
      ]
    },
    {
      "cell_type": "markdown",
      "source": [
        "# Fungsi Dasar"
      ],
      "metadata": {
        "id": "YMsTb3E1MWY6"
      }
    },
    {
      "cell_type": "code",
      "source": [
        "# fungsi mencari apa saja unique value dari suatu kolom\n",
        "...\n",
        "\n",
        "# contoh penggunaan\n",
        "...\n",
        "import pandas as pd\n",
        "\n",
        "\n",
        "def unique_values(df, column):\n",
        "    return df[column].unique()\n",
        "\n",
        "\n",
        "data = {\n",
        "    \"Nama\": [\"Budi\", \"Ani\", \"Citra\", \"Budi\", \"Dewi\", \"Ani\"],\n",
        "    \"Umur\": [20, 21, 22, 20, 23, 21]\n",
        "}\n",
        "\n",
        "df = pd.DataFrame(data)\n",
        "\n",
        "print(\"Unique Nama:\", unique_values(df, \"Nama\"))\n",
        "print(\"Unique Umur:\", unique_values(df, \"Umur\"))"
      ],
      "metadata": {
        "id": "Bgzx5gwhSTWp",
        "colab": {
          "base_uri": "https://localhost:8080/"
        },
        "outputId": "445e24a1-629e-40ed-8b92-c40d6aced3b2"
      },
      "execution_count": 13,
      "outputs": [
        {
          "output_type": "stream",
          "name": "stdout",
          "text": [
            "Unique Nama: ['Budi' 'Ani' 'Citra' 'Dewi']\n",
            "Unique Umur: [20 21 22 23]\n"
          ]
        }
      ]
    },
    {
      "cell_type": "code",
      "source": [
        "# fungsi Menghitung jumlah unique value dari suatu kolom\n",
        "def class_counts(rows):\n",
        "    ...\n",
        "    return counts\n",
        "\n",
        "# contoh penggunaan\n",
        "...\n",
        "\n",
        "def class_counts(rows):\n",
        "    counts = {}\n",
        "    for row in rows:\n",
        "\n",
        "        label = row[-1]\n",
        "        if label not in counts:\n",
        "            counts[label] = 0\n",
        "        counts[label] += 1\n",
        "    return counts\n",
        "\n",
        "\n",
        "# Contoh penggunaan\n",
        "dataset = [\n",
        "    [\"Hijau\", 3, \"Apple\"],\n",
        "    [\"Kuning\", 3, \"Apple\"],\n",
        "    [\"Merah\", 1, \"Grape\"],\n",
        "    [\"Merah\", 1, \"Grape\"],\n",
        "    [\"Kuning\", 3, \"Lemon\"],\n",
        "]\n",
        "\n",
        "print(class_counts(dataset))"
      ],
      "metadata": {
        "id": "hhF6uUhrJesN",
        "colab": {
          "base_uri": "https://localhost:8080/"
        },
        "outputId": "d8f20f9c-fa9b-4df6-f8bf-7a6e13d804c8"
      },
      "execution_count": 14,
      "outputs": [
        {
          "output_type": "stream",
          "name": "stdout",
          "text": [
            "{'Apple': 2, 'Grape': 2, 'Lemon': 1}\n"
          ]
        }
      ]
    },
    {
      "cell_type": "code",
      "source": [
        "# fungsi pengecekan suatu value numerik atau bukan\n",
        "def is_numeric(value):\n",
        "    ...\n",
        "\n",
        "# contoh penggunaan\n",
        "...\n",
        "\n",
        "def is_numeric(value):\n",
        "    return isinstance(value, (int, float))\n",
        "\n",
        "\n",
        "\n",
        "print(is_numeric(5))        # True\n",
        "print(is_numeric(3.14))     # True\n",
        "print(is_numeric(\"Hello\"))  # False\n",
        "print(is_numeric(\"123\"))    # False (karena string, bukan int/float)"
      ],
      "metadata": {
        "id": "U9mxqVcnI9vw",
        "colab": {
          "base_uri": "https://localhost:8080/"
        },
        "outputId": "b1641450-b607-4024-a093-1f4b5afd9e13"
      },
      "execution_count": 15,
      "outputs": [
        {
          "output_type": "stream",
          "name": "stdout",
          "text": [
            "True\n",
            "True\n",
            "False\n",
            "False\n"
          ]
        }
      ]
    },
    {
      "cell_type": "code",
      "source": [
        "# kelas untuk merepresentasikan pertanyaan pada decision tree\n",
        "class Question:\n",
        "\n",
        "    # inisialisasi kolom dan nilai pertanyaan\n",
        "    def __init__(self, column, value):\n",
        "        self.column = column\n",
        "        self.value = value\n",
        "\n",
        "    # mengecek apakah contoh data sesuai dengan pertanyaan\n",
        "    def match(self, example):\n",
        "        val = example[self.column]\n",
        "        if isinstance(val, (int, float)):  # kalau numerik -> cek >=\n",
        "            return val >= self.value\n",
        "        else:  # kalau kategorikal -> cek sama dengan\n",
        "            return val == self.value\n",
        "\n",
        "    # menampilkan pertanyaan dalam format string yang mudah dibaca\n",
        "    def __repr__(self):\n",
        "        condition = \"==\"\n",
        "        if isinstance(self.value, (int, float)):\n",
        "            condition = \">=\"\n",
        "        return f\"Apakah kolom[{self.column}] {condition} {self.value}?\"\n",
        "\n",
        "# contoh penggunaan 1\n",
        "dataset = [\n",
        "    [\"Hijau\", 3, \"Apple\"],\n",
        "    [\"Kuning\", 3, \"Apple\"],\n",
        "    [\"Merah\", 1, \"Grape\"],\n",
        "    [\"Merah\", 1, \"Grape\"],\n",
        "    [\"Kuning\", 3, \"Lemon\"],\n",
        "]\n",
        "\n",
        "# Buat pertanyaan: apakah kolom 1 (jumlah) >= 3?\n",
        "q1 = Question(1, 3)\n",
        "\n",
        "print(q1)                          # menampilkan pertanyaan\n",
        "print(q1.match(dataset[0]))        # True (3 >= 3)\n",
        "print(q1.match(dataset[2]))        # False (1 >= 3 ?)"
      ],
      "metadata": {
        "id": "MekftmdeLPRo",
        "colab": {
          "base_uri": "https://localhost:8080/"
        },
        "outputId": "c890361b-4aa3-4a46-b6cc-05a4f9e93aac"
      },
      "execution_count": 17,
      "outputs": [
        {
          "output_type": "stream",
          "name": "stdout",
          "text": [
            "Apakah kolom[1] >= 3?\n",
            "True\n",
            "False\n"
          ]
        }
      ]
    },
    {
      "cell_type": "code",
      "source": [
        "# membagi dataset menjadi dua berdasarkan pertanyaan\n",
        "def partition(rows, question):\n",
        "    true_rows, false_rows = [], []\n",
        "    for row in rows:\n",
        "        if question.match(row):\n",
        "            true_rows.append(row)\n",
        "        else:\n",
        "            false_rows.append(row)\n",
        "    return true_rows, false_rows\n",
        "\n",
        "# contoh penggunaan\n",
        "# misalnya dataset sederhana\n",
        "training_data = [\n",
        "    [\"Hijau\", 3, \"Apel\"],\n",
        "    [\"Kuning\", 3, \"Apel\"],\n",
        "    [\"Merah\", 1, \"Anggur\"],\n",
        "    [\"Merah\", 1, \"Anggur\"],\n",
        "    [\"Kuning\", 3, \"Lemon\"],\n",
        "]\n",
        "\n",
        "\n",
        "q = Question(0, \"Merah\")\n",
        "\n",
        "true_rows, false_rows = partition(training_data, q)\n",
        "\n",
        "print(\"True rows:\")\n",
        "for row in true_rows:\n",
        "    print(row)\n",
        "\n",
        "print(\"\\nFalse rows:\")\n",
        "for row in false_rows:\n",
        "  print(row)"
      ],
      "metadata": {
        "id": "Y3lTf9NbL8Ik",
        "colab": {
          "base_uri": "https://localhost:8080/"
        },
        "outputId": "2f76d9ff-97bb-49a6-81b9-d839d22c5b0e"
      },
      "execution_count": 20,
      "outputs": [
        {
          "output_type": "stream",
          "name": "stdout",
          "text": [
            "True rows:\n",
            "['Merah', 1, 'Anggur']\n",
            "['Merah', 1, 'Anggur']\n",
            "\n",
            "False rows:\n",
            "['Hijau', 3, 'Apel']\n",
            "['Kuning', 3, 'Apel']\n",
            "['Kuning', 3, 'Lemon']\n"
          ]
        }
      ]
    },
    {
      "cell_type": "markdown",
      "source": [
        "**apa itu gini impurity?**\n",
        "<br> gini impurity berfungsi mengukur tingkat ketidakmurnian atau ketidakteraturan pada sebuah simpul (node) dalam pohon"
      ],
      "metadata": {
        "id": "X4D5BkyeMdSG"
      }
    },
    {
      "cell_type": "code",
      "source": [
        "# menghitung jumlah label dalam dataset\n",
        "def class_counts(rows):\n",
        "    counts = {}\n",
        "    for row in rows:\n",
        "        # asumsi label ada di kolom terakhir\n",
        "        label = row[-1]\n",
        "        if label not in counts:\n",
        "            counts[label] = 0\n",
        "        counts[label] += 1\n",
        "    return counts\n",
        "\n",
        "\n",
        "# menghitung nilai Gini Impurity untuk sebuah dataset\n",
        "def gini(rows):\n",
        "    counts = class_counts(rows)\n",
        "    impurity = 1\n",
        "    for lbl in counts:\n",
        "        prob_of_lbl = counts[lbl] / float(len(rows))\n",
        "        impurity -= prob_of_lbl**2\n",
        "    return impurity\n",
        "\n",
        "\n",
        "# ==== contoh penggunaan ====\n",
        "\n",
        "# dataset sederhana\n",
        "dataset = [\n",
        "    [\"Hijau\", 3, \"Apel\"],\n",
        "    [\"Kuning\", 3, \"Apel\"],\n",
        "    [\"Merah\", 1, \"Anggur\"],\n",
        "    [\"Merah\", 1, \"Anggur\"],\n",
        "    [\"Kuning\", 3, \"Lemon\"],\n",
        "]\n",
        "\n",
        "print(\"Gini impurity dataset:\", gini(dataset))"
      ],
      "metadata": {
        "id": "DmAnmSzFMKtA",
        "colab": {
          "base_uri": "https://localhost:8080/"
        },
        "outputId": "6e752a6f-140a-4ba2-dffc-2db9f42fce53"
      },
      "execution_count": 21,
      "outputs": [
        {
          "output_type": "stream",
          "name": "stdout",
          "text": [
            "Gini impurity dataset: 0.6399999999999999\n"
          ]
        }
      ]
    },
    {
      "cell_type": "markdown",
      "source": [
        "**apa itu information gain?**\n",
        "<br> information gain berfungsi mengukur seberapa efektif sebuah fitur dalam memisahkan data berdasarkan kelas-kelasnya"
      ],
      "metadata": {
        "id": "SyxWlLNOM_2U"
      }
    },
    {
      "cell_type": "code",
      "source": [
        "# menghitung nilai Information Gain dari pemisahan dataset\n",
        "def info_gain(left, right, current_uncertainty):\n",
        "    p = float(len(left)) / (len(left) + len(right))\n",
        "    return current_uncertainty - p * gini(left) - (1 - p) * gini(right)\n",
        "\n",
        "\n",
        "# ==== contoh penggunaan ====\n",
        "\n",
        "# dataset sederhana\n",
        "dataset = [\n",
        "    [\"Hijau\", 3, \"Apel\"],\n",
        "    [\"Kuning\", 3, \"Apel\"],\n",
        "    [\"Merah\", 1, \"Anggur\"],\n",
        "    [\"Merah\", 1, \"Anggur\"],\n",
        "    [\"Kuning\", 3, \"Lemon\"],\n",
        "]\n",
        "\n",
        "# misalnya kita sudah punya fungsi Question dan partition\n",
        "q = Question(0, \"Merah\")   # pertanyaan: apakah warna == Merah?\n",
        "true_rows, false_rows = partition(dataset, q)\n",
        "\n",
        "current_uncertainty = gini(dataset)\n",
        "gain = info_gain(true_rows, false_rows, current_uncertainty)\n",
        "\n",
        "print(\"Information Gain:\", gain)"
      ],
      "metadata": {
        "id": "rObVucEEMiIZ",
        "colab": {
          "base_uri": "https://localhost:8080/"
        },
        "outputId": "e9a9549a-c7b6-4640-abc7-5f6500573626"
      },
      "execution_count": 22,
      "outputs": [
        {
          "output_type": "stream",
          "name": "stdout",
          "text": [
            "Information Gain: 0.37333333333333324\n"
          ]
        }
      ]
    },
    {
      "cell_type": "code",
      "source": [
        "# mencari pertanyaan terbaik untuk membagi dataset berdasarkan information gain tertinggi\n",
        "def find_best_split(rows):\n",
        "    best_gain = 0\n",
        "    best_question = None\n",
        "    current_uncertainty = gini(rows)\n",
        "    n_features = len(rows[0]) - 1  # kolom terakhir adalah label\n",
        "\n",
        "    for col in range(n_features):  # untuk setiap fitur\n",
        "        values = set([row[col] for row in rows])  # semua nilai unik pada kolom itu\n",
        "\n",
        "        for val in values:  # coba split untuk setiap nilai unik\n",
        "            question = Question(col, val)\n",
        "\n",
        "            true_rows, false_rows = partition(rows, question)\n",
        "\n",
        "            # Skip split kalau tidak membagi data\n",
        "            if len(true_rows) == 0 or len(false_rows) == 0:\n",
        "                continue\n",
        "\n",
        "            gain = info_gain(true_rows, false_rows, current_uncertainty)\n",
        "\n",
        "            if gain >= best_gain:\n",
        "                best_gain, best_question = gain, question\n",
        "\n",
        "    return best_gain, best_question\n",
        "\n",
        "\n",
        "# ==== contoh penggunaan ====\n",
        "\n",
        "dataset = [\n",
        "    [\"Hijau\", 3, \"Apel\"],\n",
        "    [\"Kuning\", 3, \"Apel\"],\n",
        "    [\"Merah\", 1, \"Anggur\"],\n",
        "    [\"Merah\", 1, \"Anggur\"],\n",
        "    [\"Kuning\", 3, \"Lemon\"],\n",
        "]\n",
        "\n",
        "best_gain, best_question = find_best_split(dataset)\n",
        "\n",
        "print(\"Best Gain:\", best_gain)\n",
        "print(\"Best Question:\", best_question)"
      ],
      "metadata": {
        "id": "OK8Lc7koOIyS",
        "colab": {
          "base_uri": "https://localhost:8080/"
        },
        "outputId": "aed14fc6-3196-42ee-e90b-46b98c17c4ef"
      },
      "execution_count": 23,
      "outputs": [
        {
          "output_type": "stream",
          "name": "stdout",
          "text": [
            "Best Gain: 0.37333333333333324\n",
            "Best Question: Apakah kolom[1] >= 3?\n"
          ]
        }
      ]
    },
    {
      "cell_type": "markdown",
      "source": [
        "# Fungsi Decision Tree"
      ],
      "metadata": {
        "id": "t225xaaIPGow"
      }
    },
    {
      "cell_type": "code",
      "source": [
        " # kelas Leaf untuk merepresentasikan node daun\n",
        "class Leaf:\n",
        "    # inisialisasi dengan menghitung jumlah kemunculan tiap kelas\n",
        "    def _init_(self, rows):\n",
        "        self.predictions = class_counts(rows)\n",
        "\n",
        "# fungsi menghitung jumlah tiap kelas dalam dataset\n",
        "def class_counts(rows):\n",
        "    counts = {}\n",
        "    for row in rows:\n",
        "        # label biasanya ada di kolom terakhir\n",
        "        label = row[-1]\n",
        "        if label not in counts:\n",
        "            counts[label] = 0\n",
        "        counts[label] += 1\n",
        "    return counts"
      ],
      "metadata": {
        "id": "3KXNVwMPOZ5c"
      },
      "execution_count": 26,
      "outputs": []
    },
    {
      "cell_type": "code",
      "source": [
        "# kelas Decision_Node untuk merepresentasikan node keputusan\n",
        "class Decision_Node:\n",
        "    # inisialisasi dengan pertanyaan, cabang true, dan cabang false\n",
        "    def _init_(self, question, true_branch, false_branch):\n",
        "        self.question = question      # pertanyaan yang dipakai untuk split\n",
        "        self.true_branch = true_branch    # subtree jika jawaban True\n",
        "        self.false_branch = false_branch  # subtree jika jawaban False\n"
      ],
      "metadata": {
        "id": "gktUwUY-P-eN"
      },
      "execution_count": 29,
      "outputs": []
    },
    {
      "cell_type": "code",
      "source": [
        "# membangun decision tree secara rekursif\n",
        "def build_tree(rows):\n",
        "    # cari split terbaik\n",
        "    gain, question = find_best_split(rows)\n",
        "\n",
        "    # jika tidak ada information gain -> buat leaf\n",
        "    if gain == 0:\n",
        "        return Leaf(rows)\n",
        "\n",
        "    # jika ada, bagi dataset berdasarkan pertanyaan\n",
        "    true_rows, false_rows = partition(rows, question)\n",
        "\n",
        "    # rekursif bangun cabang True\n",
        "    true_branch = build_tree(true_rows)\n",
        "\n",
        "    # rekursif bangun cabang False\n",
        "    false_branch = build_tree(false_rows)\n",
        "\n",
        "    # kembalikan node keputusan\n",
        "    return Decision_Node(question, true_branch, false_branch)"
      ],
      "metadata": {
        "id": "_cWHvsMKPPsk"
      },
      "execution_count": 44,
      "outputs": []
    },
    {
      "cell_type": "code",
      "source": [
        "# mencetak struktur decision tree secara rekursif dalam format teks\n",
        "def print_tree(node, spacing=\"\"):\n",
        "    # base case: jika sudah mencapai leaf\n",
        "    if isinstance(node, Leaf):\n",
        "        print(spacing + \"Prediksi:\", node.predictions)\n",
        "        return\n",
        "\n",
        "    # mencetak pertanyaan pada node saat ini\n",
        "    print(spacing + str(node.question))\n",
        "\n",
        "    # mencetak cabang true secara rekursif\n",
        "    print(spacing + '--> True:')\n",
        "    print_tree(node.true_branch, spacing + \"  \")\n",
        "\n",
        "    # mencetak cabang false secara rekursif\n",
        "    print(spacing + '--> False:')\n",
        "    print_tree(node.false_branch, spacing + \"  \")\n",
        "  # contoh penggunan\n",
        "    # misalnya kita sudah punya tree hasil build_tree\n",
        "    tree = build_tree(training_data)\n",
        "\n",
        "    # cetak strukturnya\n",
        "    print_tree(tree)"
      ],
      "metadata": {
        "id": "tx_AbjiYPS05"
      },
      "execution_count": 34,
      "outputs": []
    },
    {
      "cell_type": "code",
      "source": [
        "# mengklasifikasikan satu baris data menggunakan decision tree\n",
        "def classify(row, node):\n",
        "    # base case: jika sudah mencapai leaf\n",
        "    if isinstance(node, Leaf):\n",
        "        return node.predictions\n",
        "\n",
        "    # menentukan apakah mengikuti cabang true atau cabang false\n",
        "    if node.question.match(row):\n",
        "        return classify(row, node.true_branch)\n",
        "    else:\n",
        "        return classify(row, node.false_branch)\n",
        "\n",
        "# contoh penggunaan\n",
        "    # misalnya kita sudah punya tree\n",
        "    tree = build_tree(training_data)\n",
        "\n",
        "    # uji prediksi untuk satu baris\n",
        "    row = [\"Green\", 3]   # contoh data baru\n",
        "    print(classify(row, tree))"
      ],
      "metadata": {
        "id": "tchvhQc-PVC2"
      },
      "execution_count": 36,
      "outputs": []
    },
    {
      "cell_type": "code",
      "source": [
        "# menampilkan prediksi pada leaf dalam format persentase\n",
        "def print_leaf(counts):\n",
        "    total = sum(counts.values())  # total semua sample di leaf\n",
        "    probs = {}\n",
        "    for label in counts:\n",
        "        probs[label] = str(int(counts[label] / total * 100)) + \"%\"\n",
        "    return probs\n",
        "\n",
        "# contoh penggunaan\n",
        "counts = {\"Apple\": 3, \"Grape\": 1}\n",
        "print(print_leaf(counts))"
      ],
      "metadata": {
        "id": "w8r0lzWpQM7c",
        "colab": {
          "base_uri": "https://localhost:8080/"
        },
        "outputId": "314f4ef8-5942-4d65-d2dc-4fd20ae1eb3e"
      },
      "execution_count": 37,
      "outputs": [
        {
          "output_type": "stream",
          "name": "stdout",
          "text": [
            "{'Apple': '75%', 'Grape': '25%'}\n"
          ]
        }
      ]
    },
    {
      "cell_type": "markdown",
      "source": [
        "# Predict Using Decision Tree"
      ],
      "metadata": {
        "id": "JLT1_TuuQWlI"
      }
    },
    {
      "cell_type": "code",
      "source": [
        "# ==============================\n",
        "# Decision Tree dari Nol (Lengkap, sekali copy)\n",
        "# ==============================\n",
        "\n",
        "# hitung jumlah label unik\n",
        "def class_counts(rows):\n",
        "    counts = {}\n",
        "    for row in rows:\n",
        "        label = row[-1]\n",
        "        counts[label] = counts.get(label, 0) + 1\n",
        "    return counts\n",
        "\n",
        "# node daun (Leaf)\n",
        "class Leaf:\n",
        "    def __init__(self, rows):\n",
        "        self.predictions = class_counts(rows)\n",
        "\n",
        "# node pertanyaan (Question)\n",
        "class Question:\n",
        "    def __init__(self, column, value):\n",
        "        self.column = column\n",
        "        self.value = value\n",
        "\n",
        "    def match(self, example):\n",
        "        val = example[self.column]\n",
        "        if isinstance(val, (int, float)):\n",
        "            return val >= self.value\n",
        "        else:\n",
        "            return val == self.value\n",
        "\n",
        "    def __repr__(self):\n",
        "        condition = \">=\" if isinstance(self.value, (int, float)) else \"==\"\n",
        "        return f\"Apakah kolom {self.column} {condition} {self.value}?\"\n",
        "\n",
        "# node keputusan (Decision Node)\n",
        "class Decision_Node:\n",
        "    def __init__(self, question, true_branch, false_branch):\n",
        "        self.question = question\n",
        "        self.true_branch = true_branch\n",
        "        self.false_branch = false_branch\n",
        "\n",
        "# gini impurity\n",
        "def gini(rows):\n",
        "    counts = class_counts(rows)\n",
        "    impurity = 1\n",
        "    for lbl in counts:\n",
        "        prob_of_lbl = counts[lbl] / float(len(rows))\n",
        "        impurity -= prob_of_lbl**2\n",
        "    return impurity\n",
        "\n",
        "# information gain\n",
        "def info_gain(left, right, current_uncertainty):\n",
        "    p = float(len(left)) / (len(left) + len(right))\n",
        "    return current_uncertainty - p * gini(left) - (1 - p) * gini(right)\n",
        "\n",
        "# split dataset\n",
        "def partition(rows, question):\n",
        "    true_rows, false_rows = [], []\n",
        "    for row in rows:\n",
        "        if question.match(row):\n",
        "            true_rows.append(row)\n",
        "        else:\n",
        "            false_rows.append(row)\n",
        "    return true_rows, false_rows\n",
        "\n",
        "# cari split terbaik\n",
        "def find_best_split(rows):\n",
        "    best_gain = 0\n",
        "    best_question = None\n",
        "    current_uncertainty = gini(rows)\n",
        "    n_features = len(rows[0]) - 1\n",
        "\n",
        "    for col in range(n_features):\n",
        "        values = set([row[col] for row in rows])\n",
        "        for val in values:\n",
        "            question = Question(col, val)\n",
        "            true_rows, false_rows = partition(rows, question)\n",
        "            if len(true_rows) == 0 or len(false_rows) == 0:\n",
        "                continue\n",
        "            gain = info_gain(true_rows, false_rows, current_uncertainty)\n",
        "            if gain >= best_gain:\n",
        "                best_gain, best_question = gain, question\n",
        "    return best_gain, best_question\n",
        "\n",
        "# bangun tree\n",
        "def build_tree(rows):\n",
        "    gain, question = find_best_split(rows)\n",
        "    if gain == 0:\n",
        "        return Leaf(rows)\n",
        "    true_rows, false_rows = partition(rows, question)\n",
        "    true_branch = build_tree(true_rows)\n",
        "    false_branch = build_tree(false_rows)\n",
        "    return Decision_Node(question, true_branch, false_branch)\n",
        "\n",
        "# fungsi klasifikasi\n",
        "def classify(row, node):\n",
        "    if isinstance(node, Leaf):\n",
        "        return node.predictions\n",
        "    if node.question.match(row):\n",
        "        return classify(row, node.true_branch)\n",
        "    else:\n",
        "        return classify(row, node.false_branch)\n",
        "\n",
        "# ambil label hasil prediksi\n",
        "def get_prediction(predictions):\n",
        "    return max(predictions, key=predictions.get)\n",
        "\n",
        "# ==============================\n",
        "# Contoh penggunaan\n",
        "# ==============================\n",
        "\n",
        "# data training (fitur terakhir adalah label)\n",
        "training_data = [\n",
        "    [\"Hijau\", 3, \"Apel\"],\n",
        "    [\"Kuning\", 3, \"Apel\"],\n",
        "    [\"Merah\", 1, \"Anggur\"],\n",
        "    [\"Merah\", 1, \"Anggur\"],\n",
        "    [\"Kuning\", 3, \"Lemon\"],\n",
        "]\n",
        "\n",
        "# bangun pohon\n",
        "my_tree = build_tree(training_data)\n",
        "\n",
        "# data testing\n",
        "testing_data = [\n",
        "    [\"Hijau\", 3, \"Apel\"],\n",
        "    [\"Kuning\", 4, \"Lemon\"],\n",
        "    [\"Merah\", 1, \"Anggur\"],\n",
        "    [\"Hijau\", 2, \"Apel\"],\n",
        "]\n",
        "\n",
        "# uji pohon\n",
        "print(\"=== Hasil Prediksi ===\")\n",
        "benar = 0\n",
        "for row in testing_data:\n",
        "    prediction = classify(row, my_tree)\n",
        "    predicted_label = get_prediction(prediction)\n",
        "    actual = row[-1]\n",
        "    print(f\"Data: {row[:-1]}, Label Asli: {actual}, Prediksi: {predicted_label}\")\n",
        "    if predicted_label == actual:\n",
        "        benar += 1\n",
        "\n",
        "akurasi = benar / len(testing_data) * 100\n",
        "print(f\"\\nAkurasi: {akurasi:.2f}%\")"
      ],
      "metadata": {
        "id": "DhG5NCwHQSlF",
        "colab": {
          "base_uri": "https://localhost:8080/"
        },
        "outputId": "a01c4a5e-aa1c-4687-8378-50dfc806655c"
      },
      "execution_count": 52,
      "outputs": [
        {
          "output_type": "stream",
          "name": "stdout",
          "text": [
            "=== Hasil Prediksi ===\n",
            "Data: ['Hijau', 3], Label Asli: Apel, Prediksi: Apel\n",
            "Data: ['Kuning', 4], Label Asli: Lemon, Prediksi: Apel\n",
            "Data: ['Merah', 1], Label Asli: Anggur, Prediksi: Anggur\n",
            "Data: ['Hijau', 2], Label Asli: Apel, Prediksi: Anggur\n",
            "\n",
            "Akurasi: 50.00%\n"
          ]
        }
      ]
    }
  ]
}